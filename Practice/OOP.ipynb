{
 "cells": [
  {
   "cell_type": "markdown",
   "metadata": {},
   "source": [
    "## Tổng quan về OOP"
   ]
  },
  {
   "cell_type": "markdown",
   "metadata": {},
   "source": [
    "## 1.Lớp(Class) và Đối tượng(Object)\n"
   ]
  },
  {
   "cell_type": "markdown",
   "metadata": {},
   "source": [
    "Có thể hiểu đơn giản: Lớp chính là bản mô phỏng của một đối tượng trong thực tế"
   ]
  },
  {
   "cell_type": "markdown",
   "metadata": {},
   "source": [
    "#### Tạo ra lớp Human\n",
    "- Mỗi đối tượng tạo từ lớp Human sẽ lưu trữ tên, tuổi và mỗi người sẽ có khả năng study() và play_game()\n"
   ]
  },
  {
   "cell_type": "code",
   "execution_count": 50,
   "metadata": {},
   "outputs": [],
   "source": [
    "class Human:\n",
    "    #class attribute\n",
    "    nationality = \"Viet Nam\"\n",
    "\n",
    "    def __init__(self, name, age):\n",
    "        #instance attribute\n",
    "        self.name = name\n",
    "        self.age = age\n",
    "    def study(self):\n",
    "        print(f\"{self.name} is now studying python\")\n",
    "    def play_game(self):\n",
    "        print(f\"{self.name} was busted because of playing game in training class\")\n",
    "    def sing(self):\n",
    "        print(\"sing random\")\n",
    "    def __str__(self):\n",
    "        return f\"{self.name} {self.age}\""
   ]
  },
  {
   "cell_type": "markdown",
   "metadata": {},
   "source": [
    "- Phương thức \\__init()\\__    \n",
    "    - Phương thức __init __() là một phương thức đặc biệt và Python chạy tự động bất cứ khi nào chúng ta tạo một thể hiện mới dựa trên trên lớp Human. Phương thức này có hai dấu gạch dưới ở đầu và hai dấu gạch dưới ở cuối (không đủ hai gạch dưới sẽ dẫn đến lỗi khó xác định), một quy ước giúp ngăn chặn phương thức mặc định của Python trùng tên với phương thức khác của lập trình viên.\n",
    "    - Chúng ta định nghĩa phương thức __init __() để có ba tham số: self, name, và age. Tham số *self* là bắt buộc trong quá trình xác định phương thức và nó phải đến đầu tiên trước các tham số khác. \n",
    "    - *self*\n",
    "        - *self* là một tham số đặc biệt trong các phương thức của một lớp (class). \n",
    "        - Thường thì *self* được sử dụng để tham chiếu đến đối tượng hiện tại được tạo từ lớp. \n",
    "        - *self* giúp định rõ rằng các thuộc tính và phương thức của đối tượng hiện tại đang được xử lý trong phương thức đó.\n",
    "    - Hai biến được định nghĩa có tiền tố *self*. Bất kỳ biến tiền tố là *self* khả dụng cho mọi phương thức trong lớp và chúng ta cũng có thể truy cập các biến này thông qua bất kỳ thể hiện nào được tạo từ lớp.\n",
    "    - Dòng *self*.name = name nhận giá trị được liên kết với tên tham số và gán nó cho tên biến, sau đó được gắn vào thể hiện đang được tạo. Quá trình tương tự cũng xảy ra với *self*.age = age. Các biến mà có thể truy cập thông qua các thể hiện như thế này được gọi là thuộc tính(attribute).\n",
    "    - Lớp Human có hai phương thức khác được định nghĩa: study() và play_game(). Vì các phương thức này không cần thêm thông tin để chạy, chúng ta chỉ xác định chúng có một tham số là *self*.\n",
    "    - Các thể hiện chúng ta tạo sau này sẽ có quyền truy cập vào các phương thức này. Nói cách khác, mỗi người có thể học và chơi game.\n",
    "- Phương thức \\__str\\__()\n",
    "    - Phương thức \\__str__() là phương thức đặc biệt giúp override hàm print(), nghĩa là ta có thể kiểm soát được những gì sẽ trả về của lớp đối tượng"
   ]
  },
  {
   "cell_type": "markdown",
   "metadata": {},
   "source": [
    "#### Tạo một thể hiện của lớp (object)"
   ]
  },
  {
   "cell_type": "markdown",
   "metadata": {},
   "source": [
    "<details>\n",
    "  <summary>Human Class</summary>\n",
    "  \n",
    "  ```python\n",
    "  class Human:\n",
    "    def __init__(self, name, age):\n",
    "        self.name = name\n",
    "        self.age = age\n",
    "    def study(self):\n",
    "        print(f\"{self.name} is now studying python\")\n",
    "    def play_game(self):\n",
    "        print(f\"{self.name} was busted because of playing game in training class\")\n",
    "\n"
   ]
  },
  {
   "cell_type": "code",
   "execution_count": 51,
   "metadata": {},
   "outputs": [
    {
     "name": "stdout",
     "output_type": "stream",
     "text": [
      "my student's name is Nam\n",
      "my student's age is 18\n"
     ]
    }
   ],
   "source": [
    "my_student = Human(\"Nam\", \"18\")\n",
    "print(f\"my student's name is {my_student.name}\")\n",
    "print(f\"my student's age is {my_student.age}\")"
   ]
  },
  {
   "cell_type": "markdown",
   "metadata": {},
   "source": [
    "- Phương thức __init __() tạo ra một thể hiện cho người cụ thể này và đặt các thuộc tính tên và tuổi sử dụng các giá trị mà chúng ta đã cung cấp. Python sau đó trả về một thể hiện đại diện người này."
   ]
  },
  {
   "cell_type": "markdown",
   "metadata": {},
   "source": [
    "## 2. Thuộc tính (Attribute) và Phương thức (Method)"
   ]
  },
  {
   "cell_type": "markdown",
   "metadata": {},
   "source": [
    "#### Truy cập thuộc tính \n",
    "- Để truy cập các thuộc tính của một thể hiện ta sử dụng ký hiệu dấu chấm.\n",
    "    - Ví dụ: *my_student.name*"
   ]
  },
  {
   "cell_type": "markdown",
   "metadata": {},
   "source": [
    "#### Gọi phương thức\n",
    "- Để gọi một phương thức, ta cung cấp tên của thể hiện và phương thức ta muốn gọi, được phân tách bằng dấu chấm.\n",
    "    - Ví dụ: *my_student.study()*"
   ]
  },
  {
   "cell_type": "markdown",
   "metadata": {},
   "source": [
    "#### Phương thức đặc biệt\n"
   ]
  },
  {
   "cell_type": "markdown",
   "metadata": {},
   "source": [
    "## 3. Getter, Setter và Deleter\n"
   ]
  },
  {
   "cell_type": "markdown",
   "metadata": {},
   "source": [
    "- Getter và Setter\n",
    "    - Vì tính đóng gói của OOP(Encapsulation) nên thuộc tính của một không thể truy cập và thay đổi trực tiếp. Vì thế chúng ta có phương thức Getter và Setter\n",
    "    - Getter: Lấy ra giá trị 1 thuộc tính của đối tượng\n",
    "    - Setter: Set giá trị cho thuộc tính\n",
    "    "
   ]
  },
  {
   "cell_type": "code",
   "execution_count": null,
   "metadata": {},
   "outputs": [],
   "source": [
    "def get_name(self):\n",
    "    return self._name\n",
    "\n",
    "def set_name(self, name):\n",
    "    self._name = name"
   ]
  },
  {
   "cell_type": "code",
   "execution_count": 52,
   "metadata": {},
   "outputs": [
    {
     "name": "stdout",
     "output_type": "stream",
     "text": [
      "Nam\n",
      "Tuan\n"
     ]
    }
   ],
   "source": [
    "print(my_student.name)\n",
    "my_student.name = 'Tuan'\n",
    "print(my_student.name)"
   ]
  },
  {
   "cell_type": "markdown",
   "metadata": {},
   "source": [
    "- Deleter  \n",
    "    - Chúng ta có thể huỷ một thuộc tính hoặc cả một đối tượng với *del*\n",
    "    - Chúng ta cũng có thể tự xây dựng với  *__del*__()"
   ]
  },
  {
   "cell_type": "code",
   "execution_count": 36,
   "metadata": {},
   "outputs": [],
   "source": [
    "del my_student.age\n",
    "print(my_student.age)\n",
    "\n",
    "del my_student\n",
    "print(my_student.name)"
   ]
  },
  {
   "cell_type": "markdown",
   "metadata": {},
   "source": [
    "## 4. Tính chất của OOP \n",
    "\n"
   ]
  },
  {
   "cell_type": "markdown",
   "metadata": {},
   "source": [
    "- Tính kế thừa (Inheritance)\n",
    "    - Kế thừa cho phép xây dựng một lớp mới dựa trên đặc điểm lớp hiện có\n",
    "    - Lớp con có thể kế thừa các thuộc tính và phương thức của lớp cha và có thể mở rộng hoặc ghi đè chúng\n",
    "    - Tính kế thừa giúp tránh được việc dư thừa code và tái sử dụng code"
   ]
  },
  {
   "cell_type": "code",
   "execution_count": 55,
   "metadata": {},
   "outputs": [],
   "source": [
    "class Person:\n",
    "    def __init__(self, name, age):\n",
    "        self.name = name\n",
    "        self.age = age\n",
    "    def show(self):\n",
    "        return f\"{self.name} {self.age}\"\n",
    "\n",
    "class Student:\n",
    "    def __init__(self, name, age, gpa, email):\n",
    "        Person.__init__(self, name, age)\n",
    "        ## super().__init__(self, name, age) tương tự dòng trên\n",
    "        self.gpa = gpa\n",
    "        self.email = email\n",
    "    def infor(self):\n",
    "        print(f\"{self.name} {self.age} {self.gpa:.2f} {self.email}\")\n",
    "    ## Ghi đè hàm\n",
    "    def show(self):\n",
    "        return Person.show(self) + ' ' + f\"{self.gpa:.2f} {self.email}\"\n",
    "\n",
    "student = Student(\"A Van B\", \"20\", 3.20, \"bvana@gmail.com\")\n",
    "student.infor()"
   ]
  },
  {
   "cell_type": "markdown",
   "metadata": {},
   "source": [
    "\n",
    "- Tính chất khác của kế thừa:\n",
    "    - Đa kế thừa\n",
    "    - Kế thừa nhiều mức"
   ]
  },
  {
   "cell_type": "code",
   "execution_count": 3,
   "metadata": {},
   "outputs": [],
   "source": [
    "## Đa kế thừa\n",
    "\n",
    "class A:\n",
    "    pass\n",
    "class B:\n",
    "    pass\n",
    "class C(A, B):\n",
    "    pass"
   ]
  },
  {
   "cell_type": "code",
   "execution_count": null,
   "metadata": {},
   "outputs": [],
   "source": [
    "## Kế thừa nhiều mức\n",
    "class A:\n",
    "    pass\n",
    "class B(A):\n",
    "    pass\n",
    "class C(B):\n",
    "    pass\n",
    "\n"
   ]
  },
  {
   "cell_type": "markdown",
   "metadata": {},
   "source": [
    "- Tính trừu tượng (Abstraction)\n",
    "    - Trừu tượng cho phép bạn che dấu các chi tiết phức tạp của một đối tượng và chỉ hiển thị các phương thức và thuộc tính quan trọng đối với người sử dụng. Điều này giúp bạn tạo ra các lớp và đối tượng có giao diện dễ sử dụng và dễ hiểu."
   ]
  },
  {
   "cell_type": "markdown",
   "metadata": {},
   "source": [
    "- Tính đóng gói (Encapsulation)\n",
    "    - Tính đóng gói đặt giới hạn truy cập và tôn trọng sự bảo mật của thuộc tính và phương thức\n",
    "    - Access Modifier\n",
    "        - Public\n",
    "        - Protected\n",
    "        - Private\n",
    "    - Tính đóng gói thường được thể hiện ở các phương thức getter, setter hay khi chúng ta sử dụng tính kế thừa"
   ]
  },
  {
   "cell_type": "code",
   "execution_count": null,
   "metadata": {},
   "outputs": [],
   "source": [
    "class Student:\n",
    "    def __init__(self, name, age, gpa):\n",
    "        self.name = name  #public\n",
    "        self._age = age   #protected\n",
    "        self.__gpa = gpa  #private\n",
    "\n",
    "    def get_name(self):\n",
    "        return self.__name"
   ]
  },
  {
   "cell_type": "markdown",
   "metadata": {},
   "source": [
    "\n",
    "- Tính đa hình(Polymorphism)\n",
    "    - Nó cho phép các đối tượng của các lớp khác nhau có thể được xử lý bằng cùng một cách, mà không cần biết chính xác loại của đối tượng\n",
    "    - Tính đa hình giúp tạo ra mã linh hoạt và dễ mở rộng."
   ]
  },
  {
   "cell_type": "code",
   "execution_count": null,
   "metadata": {},
   "outputs": [],
   "source": [
    "class Animal:\n",
    "    def speak(self):\n",
    "        pass\n",
    "\n",
    "class Dog(Animal):\n",
    "    def speak(self):\n",
    "        print(\"Bark\")\n",
    "\n",
    "class Cat(Animal):\n",
    "    def speak(self):\n",
    "        print(\"Meow\")\n",
    "\n",
    "# Sử dụng tính đa hình động\n",
    "def animal_says(animal):\n",
    "    animal.speak()\n",
    "\n",
    "dog = Dog()\n",
    "cat = Cat()\n",
    "\n",
    "animal_says(dog)  # In ra \"Bark\"\n",
    "animal_says(cat)  # In ra \"Meow\"\n"
   ]
  },
  {
   "cell_type": "markdown",
   "metadata": {},
   "source": [
    "## 5. Overloading và Overriding"
   ]
  },
  {
   "cell_type": "markdown",
   "metadata": {},
   "source": [
    "- Overloading:\n",
    "    - Overloading cho phép bạn định nghĩa nhiều phương thức cùng tên trong cùng một lớp, nhưng với danh sách tham số khác nhau.\n",
    "    - Phương thức được gọi dựa trên số lượng hoặc kiểu dữ liệu của tham số truyền vào.\n",
    "    - Overloading giúp bạn tạo các phương thức có cùng tên nhưng với chức năng khác nhau. \n",
    "        -Ví dụ, bạn có thể có một phương thức calculate(int a, int b) và một phương thức calculate(double x, double y) trong cùng một lớp.\n",
    "- Overriding:\n",
    "    - Overriding xảy ra khi một lớp con (subclass) định nghĩa lại một phương thức đã được kế thừa từ lớp cha (superclass) mà nó kế thừa.\n",
    "    - Phương thức được ghi đè (overridden) trong lớp con có cùng tên, cùng kiểu dữ liệu và cùng danh sách tham số với phương thức trong lớp cha.\n",
    "    - Overriding cho phép bạn cung cấp một cài đặt khác cho phương thức được kế thừa. Nó là một cách để thay đổi hoặc mở rộng hành vi của phương thức đã có.\n",
    "    "
   ]
  },
  {
   "cell_type": "code",
   "execution_count": 60,
   "metadata": {},
   "outputs": [
    {
     "name": "stdout",
     "output_type": "stream",
     "text": [
      " dang hat\n",
      "Bui Anh Tuan dang hat\n"
     ]
    }
   ],
   "source": [
    "class Student(Human):\n",
    "    def __init__(self, id, gpa):\n",
    "        self.id = id\n",
    "        self.gpa = gpa\n",
    "    def sing(self, voice=''):\n",
    "        self.voice = voice\n",
    "        print(f\"{self.voice} dang hat\")\n",
    "\n",
    "student = Student(1, 8.0)\n",
    "student.sing()\n",
    "student.sing('Bui Anh Tuan')\n",
    "# bản chất của Python không hỗ trỡ overload - đây chỉ giới thiệu concept"
   ]
  },
  {
   "cell_type": "markdown",
   "metadata": {},
   "source": [
    "### Nạp chồng toán tử"
   ]
  },
  {
   "cell_type": "markdown",
   "metadata": {},
   "source": [
    "#### Hàm *__add*__() : Sử dụng khi cần nạp chồng toán tử + cho 2 đối tượng của một class"
   ]
  },
  {
   "cell_type": "code",
   "execution_count": 1,
   "metadata": {},
   "outputs": [
    {
     "name": "stdout",
     "output_type": "stream",
     "text": [
      "5 / 6\n"
     ]
    }
   ],
   "source": [
    "class Fraction:\n",
    "    def __init__(self, nmr, dmr):\n",
    "        self.nmr = nmr\n",
    "        self.dmr = dmr\n",
    "    def __add__(self, other):\n",
    "        self.nmr = self.nmr * other.dmr + other.nmr * self.dmr\n",
    "        self.dmr = self.dmr * other.dmr\n",
    "        return Fraction(self.nmr, self.dmr)\n",
    "    def __str__(self):\n",
    "        return f\"{self.nmr} / {self.dmr}\"\n",
    "\n",
    "f1 = Fraction(1, 2)\n",
    "f2 = Fraction(1, 3)\n",
    "f3 = f1 + f2\n",
    "print(f3)"
   ]
  },
  {
   "cell_type": "markdown",
   "metadata": {},
   "source": [
    "#### Tương tự thì ta có thể nạp chồng các hàm:\n",
    "- Hàm *__sub*__() : cho toán tử -\n",
    "- Hàm *__mul*__() : cho toán tử *\n",
    "- Hàm *__truediv*__() : cho toán tử /\n",
    "#### Ngoài ra có thể nạp chồng các toán tử so sánh bằng cách cài đặt các hàm tương ứng của class:\n",
    "- Hàm *__lt*__() : cho toán tử < (less than)\n",
    "- Hàm *__le*__() : cho toán tử <= (less than or equal)\n",
    "- Hàm *__gt*__() : cho toán tử > (greater than)\n",
    "- Hàm *__ge*__() : cho toán tử >= (greater than or equal)\n",
    "- Hàm *__eq*__() : cho toán tử == (equal)\n",
    "- Hàm *__ne*__() : cho toán tử != (not equal)\n"
   ]
  },
  {
   "cell_type": "markdown",
   "metadata": {},
   "source": [
    "## 6. Bổ sung kiến thức và Luyện tập"
   ]
  },
  {
   "cell_type": "markdown",
   "metadata": {},
   "source": [
    "- Giới thiệu về lambda để có thể sắp xếp danh sách các đối tượng\n",
    "\n",
    "- 1 Bài OOP điển hình (PYKT092 - ĐIỂM TUYỂN SINH)\n",
    "\n",
    "- 1 Bài có Kế thừa (PYKT096 - DANH SÁCH THI LẬP TRÌNH)"
   ]
  }
 ],
 "metadata": {
  "kernelspec": {
   "display_name": "Python 3",
   "language": "python",
   "name": "python3"
  },
  "language_info": {
   "codemirror_mode": {
    "name": "ipython",
    "version": 3
   },
   "file_extension": ".py",
   "mimetype": "text/x-python",
   "name": "python",
   "nbconvert_exporter": "python",
   "pygments_lexer": "ipython3",
   "version": "3.11.5"
  }
 },
 "nbformat": 4,
 "nbformat_minor": 2
}
